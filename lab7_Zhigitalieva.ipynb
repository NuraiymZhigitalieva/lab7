{
 "cells": [
  {
   "cell_type": "markdown",
   "id": "2ed6318f",
   "metadata": {},
   "source": [
    "<h1>Лабораторная работа №7 Жигиталиевой Нурайым Аин-2-21<h1/>"
   ]
  },
  {
   "cell_type": "markdown",
   "id": "c2d4d82a",
   "metadata": {},
   "source": [
    "<h3>дайте свой «мешок слов», например, набор из 20-25 отзывов о чем-либо, напишите краткое пояснение к данным</h3>"
   ]
  },
  {
   "cell_type": "code",
   "execution_count": 23,
   "id": "11aba4e0",
   "metadata": {},
   "outputs": [
    {
     "data": {
      "text/plain": [
       "['test', 'train']"
      ]
     },
     "execution_count": 23,
     "metadata": {},
     "output_type": "execute_result"
    }
   ],
   "source": [
    "import os\n",
    "os.listdir('laba7db')"
   ]
  },
  {
   "cell_type": "code",
   "execution_count": 24,
   "id": "43740820",
   "metadata": {},
   "outputs": [],
   "source": [
    "from sklearn.datasets import load_files\n",
    "reviews_train = load_files('laba7db/train/')\n",
    "text_train, y_train = reviews_train.data, reviews_train.target"
   ]
  },
  {
   "cell_type": "code",
   "execution_count": 25,
   "id": "9b2ced00",
   "metadata": {},
   "outputs": [
    {
     "name": "stdout",
     "output_type": "stream",
     "text": [
      "type of text_train: <class 'list'>\n",
      "length of text_train: 42\n",
      "text_train[1]:\n",
      "b\"FUTZ is the only show preserved from the experimental theatre movement in New York in the 1960s (the origins of Off Off Broadway). Though it's not for everyone, it is a genuinely brilliant, darkly funny, even more often deeply disturbing tale about love, sex, personal liberty, and revenge, a serious morality tale even more relevant now in a time when Congress wants to outlaw gay marriage by trashing our Constitution. The story is not about being gay, though -- it's about love and sex that don't conform to social norms and therefore must be removed through violence and hate. On the surface, it tells the story of a man who falls in love with a pig, but like any great fable, it's not really about animals, it's about something bigger -- stifling conformity in America.<br /><br />The stage version won international acclaim in its original production, it toured the U.S. and Europe, and with others of its kind, influenced almost all theatre that came after it. Luckily, we have preserved here the show pretty much as it was originally conceived, with the original cast and original director, Tom O'Horgan (who also directed HAIR and Jesus Christ Superstar on Broadway).<br /><br />This is not a mainstream, easy-to-take, studio film -- this is an aggressive, unsettling, glorious, deeply emotional, wildly imaginative piece of storytelling that you'll never forget. And it just might change the way you see the world...\"\n"
     ]
    }
   ],
   "source": [
    "print(\"type of text_train: {}\".format(type(text_train)))\n",
    "print(\"length of text_train: {}\".format(len(text_train)))\n",
    "print(\"text_train[1]:\\n{}\".format(text_train[1]))"
   ]
  },
  {
   "cell_type": "code",
   "execution_count": 26,
   "id": "6218e60f",
   "metadata": {},
   "outputs": [],
   "source": [
    "text_train = [doc.replace(b\"<br />\", b\" \") for doc in text_train]"
   ]
  },
  {
   "cell_type": "code",
   "execution_count": 27,
   "id": "eb2d4933",
   "metadata": {},
   "outputs": [
    {
     "name": "stdout",
     "output_type": "stream",
     "text": [
      "text_train[1]:\n",
      "b\"FUTZ is the only show preserved from the experimental theatre movement in New York in the 1960s (the origins of Off Off Broadway). Though it's not for everyone, it is a genuinely brilliant, darkly funny, even more often deeply disturbing tale about love, sex, personal liberty, and revenge, a serious morality tale even more relevant now in a time when Congress wants to outlaw gay marriage by trashing our Constitution. The story is not about being gay, though -- it's about love and sex that don't conform to social norms and therefore must be removed through violence and hate. On the surface, it tells the story of a man who falls in love with a pig, but like any great fable, it's not really about animals, it's about something bigger -- stifling conformity in America.  The stage version won international acclaim in its original production, it toured the U.S. and Europe, and with others of its kind, influenced almost all theatre that came after it. Luckily, we have preserved here the show pretty much as it was originally conceived, with the original cast and original director, Tom O'Horgan (who also directed HAIR and Jesus Christ Superstar on Broadway).  This is not a mainstream, easy-to-take, studio film -- this is an aggressive, unsettling, glorious, deeply emotional, wildly imaginative piece of storytelling that you'll never forget. And it just might change the way you see the world...\"\n"
     ]
    }
   ],
   "source": [
    "print(\"text_train[1]:\\n{}\".format(text_train[1]))"
   ]
  },
  {
   "cell_type": "code",
   "execution_count": 28,
   "id": "a7b542d9",
   "metadata": {},
   "outputs": [
    {
     "data": {
      "text/plain": [
       "array([0, 1])"
      ]
     },
     "execution_count": 28,
     "metadata": {},
     "output_type": "execute_result"
    }
   ],
   "source": [
    "import numpy as np\n",
    "np.unique(y_train)"
   ]
  },
  {
   "cell_type": "code",
   "execution_count": 29,
   "id": "a1f39897",
   "metadata": {},
   "outputs": [
    {
     "name": "stdout",
     "output_type": "stream",
     "text": [
      "Количество документов в текстовых данных: 42\n"
     ]
    }
   ],
   "source": [
    "reviews_train = load_files('laba7db/test/')\n",
    "text_test, y_test =reviews_train.data, reviews_train.target\n",
    "print(\"Количество документов в текстовых данных: {}\".format(len(text_test)))"
   ]
  },
  {
   "cell_type": "code",
   "execution_count": 30,
   "id": "0728f7cd",
   "metadata": {},
   "outputs": [
    {
     "name": "stdout",
     "output_type": "stream",
     "text": [
      "Количество примеров на класс (обучение - training: [21 21]\n"
     ]
    }
   ],
   "source": [
    "print(\"Количество примеров на класс (обучение - training: {}\".format(np.bincount(y_train)))"
   ]
  },
  {
   "cell_type": "code",
   "execution_count": 31,
   "id": "62598a69",
   "metadata": {},
   "outputs": [],
   "source": [
    "text_test = [doc.replace(b\"<br />\", b\" \") for doc in text_test]"
   ]
  },
  {
   "cell_type": "code",
   "execution_count": 32,
   "id": "7ef70d34",
   "metadata": {},
   "outputs": [],
   "source": [
    "from sklearn.feature_extraction.text import CountVectorizer\n",
    "\n",
    "vect = CountVectorizer().fit(text_train)\n",
    "X_train = vect.transform(text_train)"
   ]
  },
  {
   "cell_type": "code",
   "execution_count": 33,
   "id": "4a4f858c",
   "metadata": {},
   "outputs": [
    {
     "name": "stdout",
     "output_type": "stream",
     "text": [
      "X_train:\n",
      " <42x2011 sparse matrix of type '<class 'numpy.int64'>'\n",
      "\twith 4689 stored elements in Compressed Sparse Row format>\n"
     ]
    }
   ],
   "source": [
    "print(\"X_train:\\n {}\".format(repr(X_train)))"
   ]
  },
  {
   "cell_type": "code",
   "execution_count": 34,
   "id": "49bc0d8f",
   "metadata": {},
   "outputs": [
    {
     "data": {
      "text/html": [
       "<style>#sk-container-id-1 {color: black;}#sk-container-id-1 pre{padding: 0;}#sk-container-id-1 div.sk-toggleable {background-color: white;}#sk-container-id-1 label.sk-toggleable__label {cursor: pointer;display: block;width: 100%;margin-bottom: 0;padding: 0.3em;box-sizing: border-box;text-align: center;}#sk-container-id-1 label.sk-toggleable__label-arrow:before {content: \"▸\";float: left;margin-right: 0.25em;color: #696969;}#sk-container-id-1 label.sk-toggleable__label-arrow:hover:before {color: black;}#sk-container-id-1 div.sk-estimator:hover label.sk-toggleable__label-arrow:before {color: black;}#sk-container-id-1 div.sk-toggleable__content {max-height: 0;max-width: 0;overflow: hidden;text-align: left;background-color: #f0f8ff;}#sk-container-id-1 div.sk-toggleable__content pre {margin: 0.2em;color: black;border-radius: 0.25em;background-color: #f0f8ff;}#sk-container-id-1 input.sk-toggleable__control:checked~div.sk-toggleable__content {max-height: 200px;max-width: 100%;overflow: auto;}#sk-container-id-1 input.sk-toggleable__control:checked~label.sk-toggleable__label-arrow:before {content: \"▾\";}#sk-container-id-1 div.sk-estimator input.sk-toggleable__control:checked~label.sk-toggleable__label {background-color: #d4ebff;}#sk-container-id-1 div.sk-label input.sk-toggleable__control:checked~label.sk-toggleable__label {background-color: #d4ebff;}#sk-container-id-1 input.sk-hidden--visually {border: 0;clip: rect(1px 1px 1px 1px);clip: rect(1px, 1px, 1px, 1px);height: 1px;margin: -1px;overflow: hidden;padding: 0;position: absolute;width: 1px;}#sk-container-id-1 div.sk-estimator {font-family: monospace;background-color: #f0f8ff;border: 1px dotted black;border-radius: 0.25em;box-sizing: border-box;margin-bottom: 0.5em;}#sk-container-id-1 div.sk-estimator:hover {background-color: #d4ebff;}#sk-container-id-1 div.sk-parallel-item::after {content: \"\";width: 100%;border-bottom: 1px solid gray;flex-grow: 1;}#sk-container-id-1 div.sk-label:hover label.sk-toggleable__label {background-color: #d4ebff;}#sk-container-id-1 div.sk-serial::before {content: \"\";position: absolute;border-left: 1px solid gray;box-sizing: border-box;top: 0;bottom: 0;left: 50%;z-index: 0;}#sk-container-id-1 div.sk-serial {display: flex;flex-direction: column;align-items: center;background-color: white;padding-right: 0.2em;padding-left: 0.2em;position: relative;}#sk-container-id-1 div.sk-item {position: relative;z-index: 1;}#sk-container-id-1 div.sk-parallel {display: flex;align-items: stretch;justify-content: center;background-color: white;position: relative;}#sk-container-id-1 div.sk-item::before, #sk-container-id-1 div.sk-parallel-item::before {content: \"\";position: absolute;border-left: 1px solid gray;box-sizing: border-box;top: 0;bottom: 0;left: 50%;z-index: -1;}#sk-container-id-1 div.sk-parallel-item {display: flex;flex-direction: column;z-index: 1;position: relative;background-color: white;}#sk-container-id-1 div.sk-parallel-item:first-child::after {align-self: flex-end;width: 50%;}#sk-container-id-1 div.sk-parallel-item:last-child::after {align-self: flex-start;width: 50%;}#sk-container-id-1 div.sk-parallel-item:only-child::after {width: 0;}#sk-container-id-1 div.sk-dashed-wrapped {border: 1px dashed gray;margin: 0 0.4em 0.5em 0.4em;box-sizing: border-box;padding-bottom: 0.4em;background-color: white;}#sk-container-id-1 div.sk-label label {font-family: monospace;font-weight: bold;display: inline-block;line-height: 1.2em;}#sk-container-id-1 div.sk-label-container {text-align: center;}#sk-container-id-1 div.sk-container {/* jupyter's `normalize.less` sets `[hidden] { display: none; }` but bootstrap.min.css set `[hidden] { display: none !important; }` so we also need the `!important` here to be able to override the default hidden behavior on the sphinx rendered scikit-learn.org. See: https://github.com/scikit-learn/scikit-learn/issues/21755 */display: inline-block !important;position: relative;}#sk-container-id-1 div.sk-text-repr-fallback {display: none;}</style><div id=\"sk-container-id-1\" class=\"sk-top-container\"><div class=\"sk-text-repr-fallback\"><pre>CountVectorizer()</pre><b>In a Jupyter environment, please rerun this cell to show the HTML representation or trust the notebook. <br />On GitHub, the HTML representation is unable to render, please try loading this page with nbviewer.org.</b></div><div class=\"sk-container\" hidden><div class=\"sk-item\"><div class=\"sk-estimator sk-toggleable\"><input class=\"sk-toggleable__control sk-hidden--visually\" id=\"sk-estimator-id-1\" type=\"checkbox\" checked><label for=\"sk-estimator-id-1\" class=\"sk-toggleable__label sk-toggleable__label-arrow\">CountVectorizer</label><div class=\"sk-toggleable__content\"><pre>CountVectorizer()</pre></div></div></div></div></div>"
      ],
      "text/plain": [
       "CountVectorizer()"
      ]
     },
     "execution_count": 34,
     "metadata": {},
     "output_type": "execute_result"
    }
   ],
   "source": [
    "vect"
   ]
  },
  {
   "cell_type": "code",
   "execution_count": 35,
   "id": "d7e161df",
   "metadata": {},
   "outputs": [
    {
     "name": "stdout",
     "output_type": "stream",
     "text": [
      "Количество признаков: 2011\n",
      "Первые 20 признаков: \n",
      " ['08' '10' '11' '15' '1920' '1960s' '1969' '1972' '1990' '20' '2003'\n",
      " '2007' '2008' '30' '35' '50' '60s' '70s' '72nd' '8½']\n"
     ]
    }
   ],
   "source": [
    "feature_names = vect.get_feature_names_out()\n",
    "print(\"Количество признаков: {}\".format(len(feature_names)))\n",
    "print(\"Первые 20 признаков: \\n {}\".format(feature_names[:20]))"
   ]
  },
  {
   "cell_type": "code",
   "execution_count": 36,
   "id": "a29969eb",
   "metadata": {},
   "outputs": [],
   "source": [
    "from sklearn.model_selection import cross_val_score\n",
    "from sklearn.linear_model import LogisticRegression"
   ]
  },
  {
   "cell_type": "code",
   "execution_count": 37,
   "id": "e449244b",
   "metadata": {},
   "outputs": [
    {
     "name": "stdout",
     "output_type": "stream",
     "text": [
      "Mean value of cross_val_score: 0.74\n"
     ]
    }
   ],
   "source": [
    "scores = cross_val_score(LogisticRegression(), X_train, y_train, cv=5)\n",
    "print(\"Mean value of cross_val_score: {:.2f}\".format(np.mean(scores)))"
   ]
  },
  {
   "cell_type": "code",
   "execution_count": 38,
   "id": "3e44980b",
   "metadata": {},
   "outputs": [
    {
     "name": "stdout",
     "output_type": "stream",
     "text": [
      "The best cross_val: 0.74\n",
      "Best parameters:  {'C': 0.01}\n"
     ]
    }
   ],
   "source": [
    "from sklearn.model_selection import GridSearchCV\n",
    "param_grid = {'C': [0.001, 0.01, 0.1, 1, 10]}\n",
    "grid = GridSearchCV(LogisticRegression(max_iter=100), param_grid, cv=5)\n",
    "grid.fit(X_train, y_train)\n",
    "print(\"The best cross_val: {:.2f}\".format(grid.best_score_))\n",
    "print(\"Best parameters: \", grid.best_params_)"
   ]
  },
  {
   "cell_type": "code",
   "execution_count": 39,
   "id": "ec1487d5",
   "metadata": {},
   "outputs": [],
   "source": [
    "X_test = vect.transform(text_test)"
   ]
  },
  {
   "cell_type": "code",
   "execution_count": 40,
   "id": "a81aa3c9",
   "metadata": {},
   "outputs": [
    {
     "name": "stdout",
     "output_type": "stream",
     "text": [
      "The best score on test set: 0.36\n"
     ]
    }
   ],
   "source": [
    "print(\"The best score on test set: {:.2f}\".format(grid.score(X_test, y_test)))"
   ]
  },
  {
   "cell_type": "markdown",
   "id": "553532b9",
   "metadata": {},
   "source": [
    "<h3>Создайте словарь стоп-слов, примените стоп-слова к своему «мешку слов»</h3>"
   ]
  },
  {
   "cell_type": "code",
   "execution_count": 42,
   "id": "9612aa03",
   "metadata": {},
   "outputs": [],
   "source": [
    "stop_words = [\"a\",\"an\",\"and\",\"the\", \"is\",\"it\",\"for\",\"of\",\"with\",\"in\",\"on\",\"at\",\"to\",\"from\",\n",
    "\"by\",\"that\",\"this\",\"but\",\"not\",\"no\",\"can\",\"be\",\"has\",\"are\"]"
   ]
  },
  {
   "cell_type": "code",
   "execution_count": 43,
   "id": "28167e24",
   "metadata": {},
   "outputs": [
    {
     "name": "stdout",
     "output_type": "stream",
     "text": [
      "Количество стоп-слов: 24\n"
     ]
    }
   ],
   "source": [
    "print(\"Количество стоп-слов: {}\".format(len(stop_words)))"
   ]
  },
  {
   "cell_type": "code",
   "execution_count": 44,
   "id": "5f7c93f4",
   "metadata": {},
   "outputs": [
    {
     "name": "stdout",
     "output_type": "stream",
     "text": [
      "X_train with stop-words: \n",
      " <42x1795 sparse matrix of type '<class 'numpy.int64'>'\n",
      "\twith 2968 stored elements in Compressed Sparse Row format>\n"
     ]
    }
   ],
   "source": [
    "vect = CountVectorizer(stop_words='english').fit(text_train)\n",
    "X_train = vect.transform(text_train)\n",
    "print(\"X_train with stop-words: \\n {}\".format(repr(X_train)))"
   ]
  },
  {
   "cell_type": "code",
   "execution_count": 45,
   "id": "766f92c5",
   "metadata": {},
   "outputs": [
    {
     "name": "stdout",
     "output_type": "stream",
     "text": [
      "The best cross_val: 0.82\n"
     ]
    }
   ],
   "source": [
    "grid = GridSearchCV(LogisticRegression(), param_grid, cv=5)\n",
    "grid.fit(X_train, y_train)\n",
    "print(\"The best cross_val: {:.2f}\".format(grid.best_score_))"
   ]
  },
  {
   "cell_type": "markdown",
   "id": "65d5a3d2",
   "metadata": {},
   "source": [
    "<h3>Масштабируйте данные с помощью tf-idf</h3>"
   ]
  },
  {
   "cell_type": "code",
   "execution_count": 46,
   "id": "4dde0ecb",
   "metadata": {},
   "outputs": [],
   "source": [
    "from sklearn.feature_extraction.text import TfidfVectorizer\n",
    "from sklearn.pipeline import make_pipeline"
   ]
  },
  {
   "cell_type": "code",
   "execution_count": 47,
   "id": "2bcdb467",
   "metadata": {},
   "outputs": [
    {
     "name": "stdout",
     "output_type": "stream",
     "text": [
      "Haилучшее значение перекрестной проверки: 0.64\n"
     ]
    }
   ],
   "source": [
    "pipe = make_pipeline(TfidfVectorizer(min_df=5, norm=None), LogisticRegression(max_iter=100)) \n",
    "param_grid = {'logisticregression__C': [0.001, 0.01, 0.1, 1, 10]}\n",
    "grid = GridSearchCV(pipe, param_grid, cv=5)\n",
    "grid.fit(text_train, y_train)\n",
    "print(\"Haилучшее значение перекрестной проверки: {:.2f}\".format(grid.best_score_))"
   ]
  },
  {
   "cell_type": "code",
   "execution_count": 48,
   "id": "4b257d4e",
   "metadata": {},
   "outputs": [],
   "source": [
    "vectorizer = grid.best_estimator_.named_steps[\"tfidfvectorizer\"] \n",
    "\n",
    "X_train = vectorizer.transform(text_train)\n",
    "\n",
    "max_value = X_train.max(axis=0).toarray().ravel()\n",
    "sorted_by_tfidf = max_value.argsort()"
   ]
  },
  {
   "cell_type": "code",
   "execution_count": 49,
   "id": "735903e1",
   "metadata": {},
   "outputs": [
    {
     "name": "stdout",
     "output_type": "stream",
     "text": [
      "Признаки с наименьшими значениями fidf:\n",
      "['72nd' '11' 'attack' 'abilities' 'bland' 'bip' '1960s' '2003' 'bad'\n",
      " 'ability' 'barrels' '90s' 'audience' 'avoid' 'as' 'acting' 'amount'\n",
      " 'because' 'action' 'blank']\n",
      "Признаки с наибольшими значениями tfdf: \n",
      "['account' 'appeared' 'adult' 'area' '30' 'based' 'against' 'background'\n",
      " 'actors' 'altering' '50' 'also' 'ago' 'became' '20' 'appears' 'almost'\n",
      " 'been' 'again' 'basic']\n"
     ]
    }
   ],
   "source": [
    "print(\"Признаки с наименьшими значениями fidf:\\n{}\".format(feature_names [sorted_by_tfidf[:20]]))\n",
    "print(\"Признаки с наибольшими значениями tfdf: \\n{}\".format(feature_names [sorted_by_tfidf[-20:]]))"
   ]
  },
  {
   "cell_type": "code",
   "execution_count": 50,
   "id": "6fee891c",
   "metadata": {},
   "outputs": [
    {
     "name": "stdout",
     "output_type": "stream",
     "text": [
      "Признаки с наименьшими значениями idƒ:\n",
      "['20' 'basic' 'appears' 'been' 'always' 'altering' 'almost' 'became'\n",
      " 'based' 'adult' 'addition' '35' 'about' 'afterthought' 'being' 'board'\n",
      " 'bitches' '2008' 'analyze' '60s' '1990' 'appreciation' '1920' 'appeared'\n",
      " 'anymore' 'becoming' '30' 'back' 'badly' 'americana' 'april' 'after'\n",
      " 'awkward' 'be' 'advised' 'adults' 'appear' 'again' 'art' 'absolutely'\n",
      " '08' 'areas' 'associates' 'bigger' 'bette' 'adolescents' 'basically'\n",
      " 'actor' 'allowing' 'ago' 'beats' '1969' 'blue' 'antagonist' 'age' 'area'\n",
      " 'angry' 'begins' 'all' 'any' 'abroad' '10' 'abuse' 'arnold' '72nd' 'best'\n",
      " 'anyways' 'bombasticities' 'are' 'absurd' 'admire' 'african' 'anything'\n",
      " 'anyone' 'ashamed' 'america' 'beginning' 'aspect' 'attack' 'am' '70s'\n",
      " '2007' 'abusive' 'an' '11' 'afraid' 'bit' 'bible' 'believe' 'according'\n",
      " '15' 'accompanied' 'awakening' 'aggressive' 'background' 'actress' 'beer'\n",
      " 'annoying' 'abstract' 'also']\n"
     ]
    }
   ],
   "source": [
    "sorted_by_idf = np.argsort(vectorizer.idf_)\n",
    "print(\"Признаки с наименьшими значениями idƒ:\\n{}\".format(feature_names[sorted_by_idf[:100]]))"
   ]
  },
  {
   "cell_type": "code",
   "execution_count": 51,
   "id": "df43f52a",
   "metadata": {},
   "outputs": [],
   "source": [
    "import matplotlib.pyplot as plt\n",
    "\n",
    "# Получите коэффициенты модели\n",
    "coefficients = grid.best_estimator_.named_steps[\"logisticregression\"].coef_\n",
    "\n",
    "# Выведите первые 20 коэффициентов\n",
    "top_coefficients = np.argsort(coefficients.ravel())[-20:]\n",
    "bottom_coefficients = np.argsort(coefficients.ravel())[:20]\n",
    "\n",
    "feature_names = np.array(vectorizer.get_feature_names_out())"
   ]
  },
  {
   "cell_type": "code",
   "execution_count": 52,
   "id": "848baf1c",
   "metadata": {},
   "outputs": [
    {
     "data": {
      "image/png": "[encoded data removed]",
      "text/plain": [
       "<Figure size 1500x600 with 1 Axes>"
      ]
     },
     "metadata": {},
     "output_type": "display_data"
    }
   ],
   "source": [
    "# Визуализация топовых и низких коэффициентов\n",
    "plt.figure(figsize=(15, 6))\n",
    "plt.barh(range(len(top_coefficients)), coefficients.ravel()[top_coefficients], color='red')\n",
    "plt.barh(range(len(bottom_coefficients)), coefficients.ravel()[bottom_coefficients], color='blue')\n",
    "plt.yticks(range(len(top_coefficients)), feature_names[top_coefficients])\n",
    "plt.xlabel(\"Значение коэффициента\")\n",
    "plt.ylabel(\"Признак\")\n",
    "plt.title(\"Топовые и низкие коэффициенты модели\")\n",
    "plt.show()"
   ]
  },
  {
   "cell_type": "code",
   "execution_count": 53,
   "id": "7584448a",
   "metadata": {},
   "outputs": [
    {
     "name": "stdout",
     "output_type": "stream",
     "text": [
      "Размерности коэффициентов модели: (1, 204)\n",
      "Коеффициенты: [ 0.018442    0.00527444 -0.02263762  0.00837139 -0.03606602 -0.02661063\n",
      " -0.00452515  0.00313656 -0.00966436  0.03926513 -0.02250901  0.00810733\n",
      " -0.03008485  0.02493062 -0.00686525 -0.03200719 -0.0110547   0.00144879\n",
      " -0.00876465 -0.00517446  0.01154551  0.01054929  0.00075296  0.0058101\n",
      " -0.02009003 -0.02273842 -0.00541672 -0.02741718  0.0326586   0.00232258\n",
      " -0.01049357  0.025705   -0.01269394  0.02810631  0.02707456  0.00297218\n",
      " -0.02771061 -0.00543836 -0.00828108  0.00116596 -0.00075337  0.02473208\n",
      " -0.0168006  -0.01431036  0.00850336  0.00912622  0.00575994 -0.03054553\n",
      "  0.00512531 -0.00390032 -0.01334445 -0.01141135  0.011196   -0.01926062\n",
      " -0.02509764  0.02392535 -0.01093653  0.03575878 -0.00418199 -0.00296456\n",
      " -0.01043585  0.01881539 -0.00818682  0.00260866  0.00243663 -0.00084031\n",
      " -0.0160539  -0.00189771 -0.00722435  0.04249783  0.01893404 -0.02407372\n",
      "  0.00022093  0.00652001  0.00908326  0.00971417  0.00659768  0.02130759\n",
      " -0.01125753 -0.01603819  0.05769434 -0.01303857  0.00409258 -0.01863184\n",
      "  0.00582153  0.04054356  0.02603092 -0.04221183 -0.00700372 -0.02809253\n",
      "  0.01946586  0.00647715  0.0100479   0.04954375 -0.04227203 -0.01891471\n",
      " -0.00701029 -0.00739942  0.00541368 -0.02544293  0.02592537 -0.00212794\n",
      " -0.05926956 -0.03283251  0.01670983  0.00440706 -0.00434188  0.00336034\n",
      "  0.00465096  0.02810631 -0.0245458  -0.0161753  -0.06102456 -0.0154722\n",
      " -0.01377253 -0.03407848 -0.01665496  0.01911481  0.00126998  0.01899851\n",
      " -0.02768118 -0.03061394 -0.0190548   0.01950303 -0.02953893  0.00191788\n",
      " -0.03580906 -0.02067962  0.00983088  0.01285555  0.00787981  0.01505677\n",
      " -0.0136122   0.00860042  0.02965722  0.00565945 -0.00039556 -0.03616456\n",
      " -0.01416822  0.03669179  0.03124557  0.01873141 -0.01243281 -0.02473676\n",
      "  0.03060219 -0.00973719 -0.01966243 -0.04242605 -0.00415087  0.05931702\n",
      "  0.01006975  0.04551142  0.0017016   0.01150594  0.01642884  0.01044985\n",
      "  0.01057776 -0.01199528  0.02517639 -0.00369088  0.00932729 -0.03065967\n",
      " -0.00025768 -0.00743582  0.00403169 -0.01657224 -0.05261255 -0.0247658\n",
      "  0.0163647   0.00570787 -0.03926871  0.01181517 -0.04090945  0.004618\n",
      "  0.01273304 -0.00253849  0.04368223 -0.00660647  0.00260528 -0.06109383\n",
      " -0.02222985 -0.00931981  0.01523275  0.01138112 -0.01488546 -0.00590289\n",
      " -0.00111037  0.01903432  0.00118257 -0.00708194  0.03645252 -0.00996021\n",
      "  0.00812237  0.02732484 -0.00592076 -0.00466934  0.02306477  0.00749003\n",
      "  0.02726102 -0.01189817  0.02035727  0.02148634  0.018574    0.00281499]\n"
     ]
    }
   ],
   "source": [
    "coefficients = grid.best_estimator_.named_steps[\"logisticregression\"].coef_\n",
    "print(\"Размерности коэффициентов модели: {}\".format(coefficients.shape))\n",
    "print(\"Коеффициенты: {}\".format(coefficients.ravel()[:]))"
   ]
  },
  {
   "cell_type": "code",
   "execution_count": 54,
   "id": "9919c834",
   "metadata": {},
   "outputs": [
    {
     "name": "stdout",
     "output_type": "stream",
     "text": [
      "Best cross-validation score: 0.84\n",
      "Best parameters: \n",
      "{'logisticregression__C': 10, 'tfidfvectorizer__ngram_range': (1, 1)}\n"
     ]
    }
   ],
   "source": [
    "pipe = make_pipeline(TfidfVectorizer(), LogisticRegression()) \n",
    "\n",
    "param_grid = {'logisticregression__C': [0.001, 0.01, 0.1, 1, 10, 100],\n",
    "            'tfidfvectorizer__ngram_range': [(1, 1), (1, 2), (1, 3)]}\n",
    "\n",
    "grid = GridSearchCV(pipe, param_grid, cv=5)\n",
    "grid.fit(text_train, y_train)\n",
    "print(\"Best cross-validation score: {:.2f}\".format(grid.best_score_)) \n",
    "print(\"Best parameters: \\n{}\".format(grid.best_params_))"
   ]
  },
  {
   "cell_type": "code",
   "execution_count": 55,
   "id": "5d8682eb",
   "metadata": {},
   "outputs": [
    {
     "data": {
      "image/png": "[encoded data removed]",
      "text/plain": [
       "<Figure size 1000x600 with 2 Axes>"
      ]
     },
     "metadata": {},
     "output_type": "display_data"
    }
   ],
   "source": [
    "import seaborn as sns\n",
    "\n",
    "grid_mean_scores = np.array(grid.cv_results_['mean_test_score']).reshape(3, 6)\n",
    "\n",
    "plt.figure(figsize=(10, 6))\n",
    "sns.heatmap(grid_mean_scores, annot=True, fmt=\".3f\", xticklabels=param_grid['logisticregression__C'],\n",
    "            yticklabels=[str(i) for i in param_grid['tfidfvectorizer__ngram_range']], cmap=\"viridis\")\n",
    "plt.xlabel('Параметр C')\n",
    "plt.ylabel('ngram_range')\n",
    "plt.title('Теплокарта для усредненной правильности перекрестной проверки')\n",
    "plt.show()"
   ]
  },
  {
   "cell_type": "markdown",
   "id": "61888f98",
   "metadata": {},
   "source": [
    "<h2>Вывод</h2>\n",
    "<br>Разработав \"мешок слов\" на основе отзывов о MIT, я применила библиотеку sklearn.datasets для загрузки данных, а затем использовала CountVectorizer для векторизации текста. Этот подход позволил представить текст в виде матрицы, где каждый столбец соответствует слову, а каждая строка - отдельному отзыву.\n",
    "\n",
    "Применение логистической регрессии дало результат в 74%. Я провела анализ модели с использованием кросс-валидации, затем использовала GridSearchCV для поиска оптимальных параметров, что улучшило точность предсказаний.\n",
    "\n",
    "Для дальнейшего улучшения модели я создала список стоп-слов, избавившись от неинформативных. Этот шаг повысил точность предсказаний на 8%, достигнув 82%.\n",
    "\n",
    "Для учета важности слов в документах я применила масштабирование данных с использованием tf-idf. Это позволило учесть как частоту слова в документе, так и его значимость в контексте всего набора текстов. Были выделены наиболее и наименее значимые признаки.\n",
    "\n",
    "Эта лабораторная работа позволила мне ознакомиться с основными этапами обработки текстовых данных, включая предварительную обработку, векторизацию, создание модели и ее оценку. Эксперименты с параметрами модели и различными техниками обработки текста сделали модель более эффективной, позволяя улучшить ее результаты."
   ]
  },
  {
   "cell_type": "code",
   "execution_count": null,
   "id": "cc78cb38",
   "metadata": {},
   "outputs": [],
   "source": []
  }
 ],
 "metadata": {
  "kernelspec": {
   "display_name": "Python 3 (ipykernel)",
   "language": "python",
   "name": "python3"
  },
  "language_info": {
   "codemirror_mode": {
    "name": "ipython",
    "version": 3
   },
   "file_extension": ".py",
   "mimetype": "text/x-python",
   "name": "python",
   "nbconvert_exporter": "python",
   "pygments_lexer": "ipython3",
   "version": "3.11.4"
  }
 },
 "nbformat": 4,
 "nbformat_minor": 5
}
